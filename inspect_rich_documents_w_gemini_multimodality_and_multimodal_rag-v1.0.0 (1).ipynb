{
 "cells": [
  {
   "cell_type": "markdown",
   "id": "a1803c39-71f2-4564-bd69-3df66a1cb947",
   "metadata": {},
   "source": [
    "# Inspect Rich Documents with Gemini Multimodality and Multimodal RAG Challenge Lab\n",
    "\n",
    "__Note__: if you encounter an authentication error when running the cells in the notebook, go to __Vertex AI__ > __Dashboard__, and click on __Enable All Recommended APIs__. Then, re-run the failed cell, and continue the lab.  \n",
    "\n",
    "## Setup and requirements\n",
    "\n",
    "### Install Gen AI SDK for Python and other dependencies\n",
    "\n",
    "Run the following four cells below before you get to Task 1. Be sure to add your current project ID to the cell titled __Define Google Cloud project information__. "
   ]
  },
  {
   "cell_type": "code",
   "execution_count": 1,
   "id": "219e959e-a819-4af5-8ad2-db5cf77f969e",
   "metadata": {
    "tags": []
   },
   "outputs": [
    {
     "name": "stdout",
     "output_type": "stream",
     "text": [
      "Note: you may need to restart the kernel to use updated packages.\n",
      "Note: you may need to restart the kernel to use updated packages.\n"
     ]
    }
   ],
   "source": [
    "# \"RUN THIS CELL AS IS\"\n",
    "\n",
    "# Install required python packages and other dependencies\n",
    "%pip install --upgrade --quiet google-genai\n",
    "%pip install --quiet pymupdf"
   ]
  },
  {
   "cell_type": "markdown",
   "id": "245e8b96-1d74-4fee-903d-66e10ec82d46",
   "metadata": {},
   "source": [
    "### Restart current runtime\n",
    "\n",
    "You must restart the runtime in order to use the newly installed packages in this Jupyter runtime. You can do this by running the cell below, which will restart the current kernel.\n"
   ]
  },
  {
   "cell_type": "code",
   "execution_count": 2,
   "id": "864cef62-bfea-4843-b2a3-0b19bc00a0df",
   "metadata": {
    "tags": []
   },
   "outputs": [
    {
     "data": {
      "text/plain": [
       "{'status': 'ok', 'restart': True}"
      ]
     },
     "execution_count": 2,
     "metadata": {},
     "output_type": "execute_result"
    }
   ],
   "source": [
    "# \"RUN THIS CELL AS IS\"\n",
    "\n",
    "import IPython\n",
    "\n",
    "# Restart the kernel after libraries are loaded.\n",
    "\n",
    "app = IPython.Application.instance()\n",
    "app.kernel.do_shutdown(True)\n"
   ]
  },
  {
   "cell_type": "markdown",
   "id": "92ea66ce-c9a5-478b-b95d-7900488d1960",
   "metadata": {},
   "source": [
    "<div class=\"alert alert-block alert-warning\">\n",
    "<b>⚠️ The kernel is going to restart. Please wait until it is finished before continuing to the next step. ⚠️</b>\n",
    "</div>"
   ]
  },
  {
   "cell_type": "markdown",
   "id": "84e078e2-2891-42ed-95f7-ce31795045d0",
   "metadata": {},
   "source": [
    "### Define Google Cloud project information"
   ]
  },
  {
   "cell_type": "code",
   "execution_count": 1,
   "id": "d81ca78d-1320-49dd-8c43-3d5608f47c61",
   "metadata": {
    "tags": []
   },
   "outputs": [],
   "source": [
    "# \"COMPLETE THE MISSING PART AND RUN THIS CELL\"\n",
    "\n",
    "PROJECT_ID = \"Project ID\"  # @param {type:\"string\"}\n",
    "LOCATION = \"Your Location\"  # @param {type:\"string\"}"
   ]
  },
  {
   "cell_type": "markdown",
   "id": "48216434",
   "metadata": {},
   "source": [
    "### Initialize Gen AI\n",
    "\n",
    "Initialize the Gen AI SDK for Python for your project:"
   ]
  },
  {
   "cell_type": "code",
   "execution_count": 2,
   "id": "4f5ded7d-13b9-42ff-87dc-0b5c998f884f",
   "metadata": {
    "tags": []
   },
   "outputs": [],
   "source": [
    "# \"RUN THIS CELL AS IS\"\n",
    "\n",
    "# Initialize Gen AI.\n",
    "from google import genai\n",
    "client = genai.Client(vertexai=True, project=PROJECT_ID, location=LOCATION)\n"
   ]
  },
  {
   "cell_type": "markdown",
   "id": "cb712712-c7fb-43ef-be19-2497d610111c",
   "metadata": {},
   "source": [
    "## Task 1. Generating Multimodal Insights with Gemini\n",
    "\n",
    "Gemini is multimodal model that supports multimodal prompts. You can include text, image(s), and video in your prompt requests and get text or code responses.\n",
    "\n",
    "To complete Task 1, follow the instructions at the top of each notebook cell:\n",
    "* Run the cells with the comment \"RUN THIS CELL AS IS\".\n",
    "* Complete and run the cells with the comment \"COMPLETE THE MISSING PART AND RUN THIS CELL\".\n",
    "\n",
    "__Note__: Ensure you can see the weather related data in the response that is printed.\n",
    "\n",
    "\n",
    "### Setup and requirements for Task 1\n",
    "\n",
    "#### Import libraries"
   ]
  },
  {
   "cell_type": "code",
   "execution_count": 3,
   "id": "85d32222-695d-4993-bdc4-fde7bc7948f1",
   "metadata": {
    "tags": []
   },
   "outputs": [],
   "source": [
    "from vertexai.generative_models import GenerationConfig, GenerativeModel, Image, Part"
   ]
  },
  {
   "cell_type": "markdown",
   "id": "435fad59-d08b-4aef-8230-7f567643ce14",
   "metadata": {},
   "source": [
    "#### Load Gemini 2.0 Flash Model"
   ]
  },
  {
   "cell_type": "code",
   "execution_count": 4,
   "id": "dd63f204-6acc-41aa-ac25-45544d5c3888",
   "metadata": {
    "tags": []
   },
   "outputs": [],
   "source": [
    "# \"RUN THIS CELL AS IS\"\n",
    "\n",
    "multimodal_model = GenerativeModel(\"gemini-2.0-flash-001\")"
   ]
  },
  {
   "cell_type": "markdown",
   "id": "e0c3a051-d567-4146-b428-fcb285c6485d",
   "metadata": {},
   "source": [
    "#### Define helper functions"
   ]
  },
  {
   "cell_type": "code",
   "execution_count": 5,
   "id": "e8de36ca-ded6-46e4-99e9-4ed2fc88ee8b",
   "metadata": {
    "tags": []
   },
   "outputs": [],
   "source": [
    "# \"RUN THIS CELL AS IS\"\n",
    "\n",
    "import http.client\n",
    "import typing\n",
    "import urllib.request\n",
    "\n",
    "import IPython.display\n",
    "from PIL import Image as PIL_Image\n",
    "from PIL import ImageOps as PIL_ImageOps\n",
    "\n",
    "\n",
    "def display_images(\n",
    "    images: typing.Iterable[Image],\n",
    "    max_width: int = 600,\n",
    "    max_height: int = 350,\n",
    ") -> None:\n",
    "    for image in images:\n",
    "        pil_image = typing.cast(PIL_Image.Image, image._pil_image)\n",
    "        if pil_image.mode != \"RGB\":\n",
    "            # RGB is supported by all Jupyter environments (e.g. RGBA is not yet)\n",
    "            pil_image = pil_image.convert(\"RGB\")\n",
    "        image_width, image_height = pil_image.size\n",
    "        if max_width < image_width or max_height < image_height:\n",
    "            # Resize to display a smaller notebook image\n",
    "            pil_image = PIL_ImageOps.contain(pil_image, (max_width, max_height))\n",
    "        IPython.display.display(pil_image)\n",
    "\n",
    "\n",
    "def get_image_bytes_from_url(image_url: str) -> bytes:\n",
    "    with urllib.request.urlopen(image_url) as response:\n",
    "        response = typing.cast(http.client.HTTPResponse, response)\n",
    "        image_bytes = response.read()\n",
    "    return image_bytes\n",
    "\n",
    "\n",
    "def load_image_from_url(image_url: str) -> Image:\n",
    "    image_bytes = get_image_bytes_from_url(image_url)\n",
    "    return Image.from_bytes(image_bytes)\n",
    "\n",
    "\n",
    "def display_content_as_image(content: str | Image | Part) -> bool:\n",
    "    if not isinstance(content, Image):\n",
    "        return False\n",
    "    display_images([content])\n",
    "    return True\n",
    "\n",
    "\n",
    "def display_content_as_video(content: str | Image | Part) -> bool:\n",
    "    if not isinstance(content, Part):\n",
    "        return False\n",
    "    part = typing.cast(Part, content)\n",
    "    file_path = part.file_data.file_uri.removeprefix(\"gs://\")\n",
    "    video_url = f\"https://storage.googleapis.com/{file_path}\"\n",
    "    IPython.display.display(IPython.display.Video(video_url, width=600))\n",
    "    return True\n",
    "\n",
    "\n",
    "def print_multimodal_prompt(contents: list[str | Image | Part]):\n",
    "    \"\"\"\n",
    "    Given contents that would be sent to Gemini,\n",
    "    output the full multimodal prompt for ease of readability.\n",
    "    \"\"\"\n",
    "    for content in contents:\n",
    "        if display_content_as_image(content):\n",
    "            continue\n",
    "        if display_content_as_video(content):\n",
    "            continue\n",
    "        print(content)"
   ]
  },
  {
   "cell_type": "markdown",
   "id": "ea68bb17-db90-437a-89b1-d1fe1d2e715f",
   "metadata": {},
   "source": [
    "### Task 1.1. Image understanding across multiple images"
   ]
  },
  {
   "cell_type": "code",
   "execution_count": 7,
   "id": "1bcae938-8299-4641-87d9-d78c3dc88ac5",
   "metadata": {
    "tags": []
   },
   "outputs": [],
   "source": [
    "# \"RUN THIS CELL AS IS\"\n",
    "\n",
    "# You're going to work with provided variables in this task. \n",
    "# First, review and describe the content/purpose of each variable below. \n",
    "\n",
    "image_ask_first_1_url = \"https://storage.googleapis.com/spls/gsp520/Google_Branding/Ask_first_1.png\"\n",
    "image_dont_do_this_1_url = \"https://storage.googleapis.com/spls/gsp520/Google_Branding/Dont_do_this_1.png\"\n",
    "image_ask_first_1 = load_image_from_url(image_ask_first_1_url)\n",
    "image_dont_do_this_1 = load_image_from_url(image_dont_do_this_1_url)\n",
    "\n",
    "instructions = \"Instructions: Consider the following image that contains text:\"\n",
    "prompt1 = \"What is the title of this image\"\n",
    "prompt2 = \"\"\"\n",
    "Answer the question through these steps:\n",
    "Step 1: Identify the title of each image by using the filename of each image.\n",
    "Step 2: Describe the image.\n",
    "Step 3: For each image, describe the actions that a user is expected to take.\n",
    "Step 4: Extract the text from each image as a full sentence.\n",
    "Step 5: Describe the sentiment for each image with an explanation.\n",
    "\n",
    "Answer and describe the steps taken:\n",
    "\"\"\""
   ]
  },
  {
   "cell_type": "markdown",
   "id": "867dc55c",
   "metadata": {},
   "source": [
    "#### Create an input for the multimodal model"
   ]
  },
  {
   "cell_type": "code",
   "execution_count": 8,
   "id": "e390c4b4",
   "metadata": {
    "tags": []
   },
   "outputs": [],
   "source": [
    "# \"COMPLETE THE MISSING PART AND RUN THIS CELL\"\n",
    "\n",
    "# Now, you're going to create an input for your multimodal model. Create your contents list using the variables above. Ensure the structure matches the format expected by the multimodal model.\n",
    "\n",
    "contents = [instructions,prompt1,image_ask_first_1,image_dont_do_this_1,prompt2]"
   ]
  },
  {
   "cell_type": "markdown",
   "id": "ac4aad87",
   "metadata": {},
   "source": [
    "#### Generate responses from the multimodal model"
   ]
  },
  {
   "cell_type": "code",
   "execution_count": 9,
   "id": "7156c265",
   "metadata": {
    "tags": []
   },
   "outputs": [],
   "source": [
    "# \"COMPLETE THE MISSING PART AND RUN THIS CELL\"\n",
    "\n",
    "# In the next part of this task, you're going to generate responses from the multimodal model. Capture the output of the model in the \"responses\" variable by using your \"contents\" list.\n",
    "\n",
    "responses = multimodal_model.generate_content(contents, stream=True)"
   ]
  },
  {
   "cell_type": "markdown",
   "id": "a28025b0",
   "metadata": {},
   "source": [
    "#### Display the prompt and responses\n"
   ]
  },
  {
   "cell_type": "code",
   "execution_count": 10,
   "id": "dc92127e",
   "metadata": {
    "tags": []
   },
   "outputs": [
    {
     "name": "stdout",
     "output_type": "stream",
     "text": [
      "\n",
      "-------Response--------\n",
      "Here's an analysis of the images, following the steps you outlined:\n",
      "\n",
      "**Image 1**\n",
      "\n",
      "**Step 1: Identify the title of each image by using the filename of each image.**\n",
      "\n",
      "Based on the information provided below the image, the title is \"Product icons.\"\n",
      "\n",
      "**Step 2: Describe the image.**\n",
      "\n",
      "The image shows the logo for a product called \"SYSTEMERGER.\" The logo is a stylized design of two interlocking blue shapes.  Below the logo is the tagline \"Merge your system workflow to make your job easier.\" Further below is a line stating \"works with apps like these:\" followed by logos of Gmail, Google Calendar, and Google Drive.\n",
      "\n",
      "**Step 3: For each image, describe the actions that a user is expected to take.**\n",
      "\n",
      "The user is directed to refer to \"icon usage guidelines\" for information on using product icons in association with their business.\n",
      "\n",
      "**Step 4: Extract the text from each image as a full sentence.**\n",
      "\n",
      "*   Refer to our icon usage guidelines to see whether you can use certain product icons in association with your business.\n",
      "\n",
      "**Step 5: Describe the sentiment for each image with an explanation.**\n",
      "\n",
      "The sentiment is **informational and cautionary.** It provides information on how to use product icons, while also cautioning users to check the guidelines to ensure proper usage.\n",
      "\n",
      "**Image 2**\n",
      "\n",
      "**Step 1: Identify the title of each image by using the filename of each image.**\n",
      "\n",
      "Based on the information provided below the image, the title is \"Don't imply endorsement.\"\n",
      "\n",
      "**Step 2: Describe the image.**\n",
      "\n",
      "The image shows a logo for \"FRANK'S CRAB SHACK\" and states \"#1 Crab Restaurant in Northeastern Maine.\" A Google logo is shown below the text.\n",
      "\n",
      "**Step 3: For each image, describe the actions that a user is expected to take.**\n",
      "\n",
      "The user is warned not to use the Google logo or brand elements in a way that implies affiliation or endorsement where such a relationship does not exist.\n",
      "\n",
      "**Step 4: Extract the text from each image as a full sentence.**\n",
      "\n",
      "*   Don't use the Google logo or any of our brand elements in any way that implies affiliation, endorsement, or sponsorship where such a relationship does not exist.\n",
      "\n",
      "**Step 5: Describe the sentiment for each image with an explanation.**\n",
      "\n",
      "The sentiment is **cautionary and restrictive.** It warns against misrepresenting a relationship with Google through improper use of their brand elements."
     ]
    }
   ],
   "source": [
    "# \"COMPLETE THE MISSING PART AND RUN THIS CELL\"\n",
    "\n",
    "# In the last part of this task, you're going to print your contents and responses with the prompt and responses title provided. Use descriptive titles to help organize the output (e.g., \"Prompts\", \"Model Responses\") and then display the prompt and responses by using the print() function. \n",
    "\n",
    "# Hint: \"\\n\" inserts a newline character for clearer separation between the sections.\n",
    "\n",
    "print(\"\\n-------Response--------\")\n",
    "for response in responses:\n",
    "    print(response.text, end=\"\")\n"
   ]
  },
  {
   "cell_type": "markdown",
   "id": "0527c725-e400-4838-991b-33cd0772e450",
   "metadata": {
    "tags": []
   },
   "source": [
    "### To verify your work for Task 1.1, click __Check my progress__ in the lab instructions."
   ]
  },
  {
   "cell_type": "markdown",
   "id": "fa5b2269-4982-4c77-85b7-b6413b17f293",
   "metadata": {},
   "source": [
    "### Task 1.2. Similarity/Differences between images\n",
    "\n",
    "#### Explore the variables of the task"
   ]
  },
  {
   "cell_type": "code",
   "execution_count": 12,
   "id": "323aa40f-18dd-4454-a9f1-474d4c4c721b",
   "metadata": {
    "tags": []
   },
   "outputs": [],
   "source": [
    "# \"RUN THIS CELL AS IS\"\n",
    "\n",
    "# You're going to work with provided variables in this task. First, review and describe the content/purpose of each variable below. \n",
    "\n",
    "\n",
    "image_ask_first_3_url = \"https://storage.googleapis.com/spls/gsp520/Google_Branding/Ask_first_3.png\"\n",
    "image_dont_do_this_3_url =  \"https://storage.googleapis.com/spls/gsp520/Google_Branding/Dont_do_this_3.png\"\n",
    "image_ask_first_3 = load_image_from_url(image_ask_first_3_url)\n",
    "image_dont_do_this_3 = load_image_from_url(image_dont_do_this_3_url)\n",
    "\n",
    "prompt1 = \"\"\"\n",
    "Consider the following two images:\n",
    "Image 1:\n",
    "\"\"\"\n",
    "prompt2 = \"\"\"\n",
    "Image 2:\n",
    "\"\"\"\n",
    "prompt3 = \"\"\"\n",
    "1. What is shown in Image 1 and Image 2?\n",
    "2. What is similar between the two images?\n",
    "3. What is difference between Image 1 and Image 2 in terms of the text ?\n",
    "\"\"\"\n",
    "\n"
   ]
  },
  {
   "cell_type": "markdown",
   "id": "a5bb6c29",
   "metadata": {},
   "source": [
    "#### Create an input for the multimodal model"
   ]
  },
  {
   "cell_type": "code",
   "execution_count": 13,
   "id": "420a9d34",
   "metadata": {
    "tags": []
   },
   "outputs": [],
   "source": [
    "# \"COMPLETE THE MISSING PART AND RUN THIS CELL\"\n",
    "\n",
    "# Now, you're going to create an input for your multimodal model. Create your contents list using the variables above. Ensure the structure matches the format expected by the multimodal model.\n",
    "\n",
    "contents = [prompt1,image_ask_first_3,prompt2,image_dont_do_this_3,prompt3]"
   ]
  },
  {
   "cell_type": "markdown",
   "id": "68eaa88b",
   "metadata": {},
   "source": [
    "#### Set configuration parameters"
   ]
  },
  {
   "cell_type": "code",
   "execution_count": 14,
   "id": "3bdc9ef8",
   "metadata": {
    "tags": []
   },
   "outputs": [],
   "source": [
    "# \"COMPLETE THE MISSING PART AND RUN THIS CELL\"\n",
    "\n",
    "# Now, you're going to set configuration parameters that will influence how the multimodal model generates text. These settings control aspects like the creativity and focus of the responses. Here's how:\n",
    "# Temperature: Controls randomness. Lower values mean more predictable results, higher values mean more surprising and creative output\n",
    "# Top p / Top k: Affects how the model chooses words. Explore different values to see how they change the results.\n",
    "# Other parameters: Check the model's documentation for additional options you might want to adjust.\n",
    "\n",
    "# Store your configuration parameters in a generation_config variable. This improves reusability, allowing you to easily apply the same settings across tasks and make adjustments as needed.\n",
    "\n",
    "generation_config = GenerationConfig(\n",
    "    temperature=0.0,\n",
    "    top_p=0.8,\n",
    "    top_k=40,\n",
    "    candidate_count=1,\n",
    "    max_output_tokens=2048,\n",
    ")\n"
   ]
  },
  {
   "cell_type": "markdown",
   "id": "a78eecbb",
   "metadata": {
    "tags": []
   },
   "source": [
    "#### Generate responses from the multimodal model\n"
   ]
  },
  {
   "cell_type": "code",
   "execution_count": 17,
   "id": "74696b35",
   "metadata": {
    "tags": []
   },
   "outputs": [],
   "source": [
    "# \"COMPLETE THE MISSING PART AND RUN THIS CELL\"\n",
    "\n",
    "# In the next part of this task, you're going to generate responses from a multimodal model. capture the output of the model in the \"responses\" variable by using your \"contents\" list and the confiuguration settings.\n",
    "\n",
    "\n",
    "responses = multimodal_model.generate_content(\n",
    "    contents,\n",
    "    generation_config=generation_config,\n",
    "    stream=True,\n",
    ")\n"
   ]
  },
  {
   "cell_type": "markdown",
   "id": "16501a73",
   "metadata": {},
   "source": [
    "#### Display the prompt and responses"
   ]
  },
  {
   "cell_type": "code",
   "execution_count": 18,
   "id": "28236144",
   "metadata": {
    "tags": []
   },
   "outputs": [
    {
     "name": "stdout",
     "output_type": "stream",
     "text": [
      "-------Prompt-------\n",
      "\n",
      "Consider the following two images:\n",
      "Image 1:\n",
      "\n"
     ]
    },
    {
     "data": {
      "image/jpeg": "[encoded data removed]",
      "image/png": "[encoded data removed]",
      "text/plain": [
       "<PIL.Image.Image image mode=RGB size=320x350>"
      ]
     },
     "metadata": {},
     "output_type": "display_data"
    },
    {
     "name": "stdout",
     "output_type": "stream",
     "text": [
      "\n",
      "Image 2:\n",
      "\n"
     ]
    },
    {
     "data": {
      "image/jpeg": "[encoded data removed]",
      "image/png": "[encoded data removed]",
      "text/plain": [
       "<PIL.Image.Image image mode=RGB size=322x350>"
      ]
     },
     "metadata": {},
     "output_type": "display_data"
    },
    {
     "name": "stdout",
     "output_type": "stream",
     "text": [
      "\n",
      "1. What is shown in Image 1 and Image 2?\n",
      "2. What is similar between the two images?\n",
      "3. What is difference between Image 1 and Image 2 in terms of the text ?\n",
      "\n",
      "\n",
      "-------Response-------\n",
      "Here's a breakdown of the images:\n",
      "\n",
      "**1. What is shown in Image 1 and Image 2?**\n",
      "\n",
      "*   **Image 1:** Shows a library's announcement of a partnership with Google's \"Grow with Google\" program. It includes the library's logo, the \"Grow with Google Partner\" logo, and a text excerpt about sponsorships and partnerships with Google.\n",
      "*   **Image 2:** Shows the \"Finder.ly\" logo with a warning not to imitate Google's logo or visual identity. The text explains that this includes distinctive color combinations, graphic designs, product icons, or imagery associated with Google.\n",
      "\n",
      "**2. What is similar between the two images?**\n",
      "\n",
      "*   **Both images relate to Google:** Both images either directly show a Google partnership or discuss Google's branding guidelines.\n",
      "*   **Both images contain text:** Both images contain text that provides context and information about the visual elements.\n",
      "*   **Both images contain a logo:** Both images contain a logo.\n",
      "\n",
      "**3. What is the difference between Image 1 and Image 2 in terms of the text?**\n",
      "\n",
      "*   **Image 1:** The text in Image 1 is about sponsorships and partnerships with Google, advising those with existing deals to contact their Google contact for review.\n",
      "*   **Image 2:** The text in Image 2 is a warning against imitating Google's logo or visual identity, specifying what constitutes imitation.\n"
     ]
    }
   ],
   "source": [
    "# \"COMPLETE THE MISSING PART AND RUN THIS CELL\"\n",
    "\n",
    "# In the last part of this task, you're going to print your contents and responses with the prompt and responses title provided. Use descriptive titles to help organize the output (e.g., \"Prompts\", \"Model Responses\") and then display the prompt and responses by using the print() function. \n",
    "\n",
    "# Hint: \"\\n\" inserts a newline character for clearer separation between the sections.\n",
    "\n",
    "print(\"-------Prompt-------\")\n",
    "print_multimodal_prompt(contents)\n",
    "\n",
    "print(\"\\n-------Response-------\")\n",
    "for response in responses:\n",
    "    print(response.text, end=\"\")"
   ]
  },
  {
   "cell_type": "markdown",
   "id": "c8ab2ba5-7789-43ff-aaea-88cfcb75a4f9",
   "metadata": {},
   "source": [
    "### To verify your work for Task 1.2, click __Check my progress__ in the lab instructions."
   ]
  },
  {
   "cell_type": "markdown",
   "id": "f815778c-aee0-4c3d-9d98-445ec693b18a",
   "metadata": {},
   "source": [
    "### Task 1.3. Generate a video description\n",
    "\n",
    "#### Explore the variables of the task\n"
   ]
  },
  {
   "cell_type": "code",
   "execution_count": 19,
   "id": "90071041-d4c0-4bf2-a783-853dadaa3dca",
   "metadata": {
    "tags": []
   },
   "outputs": [],
   "source": [
    "# \"RUN THIS CELL AS IS\"\n",
    "\n",
    "# You're going to work with provided variables in this task. \n",
    "# First, review and describe the content/purpose of each variable below. \n",
    "\n",
    "\n",
    "prompt = \"\"\"\n",
    "What is the product shown in this video?\n",
    "What specific product features are highlighted in the video?\n",
    "Where was this video filmed? Which cities around the world could potentially serve as the background in the video?\n",
    "What is the sentiment of the video?\n",
    "\"\"\"\n",
    "video = Part.from_uri(\n",
    "    uri=\"gs://spls/gsp520/google-pixel-8-pro.mp4\",\n",
    "    mime_type=\"video/mp4\",\n",
    ")"
   ]
  },
  {
   "cell_type": "markdown",
   "id": "f19c1b8b",
   "metadata": {},
   "source": [
    "#### Create an input for the multimodal model"
   ]
  },
  {
   "cell_type": "code",
   "execution_count": 21,
   "id": "8b12f7b5",
   "metadata": {
    "tags": []
   },
   "outputs": [],
   "source": [
    "# \"COMPLETE THE MISSING PART AND RUN THIS CELL\"\n",
    "\n",
    "# Now, you're going to create an input for your multimodal model. Create your contents list using the variables above. Ensure the structure matches the format expected by the multimodal model.\n",
    "\n",
    "contents = [prompt,video]"
   ]
  },
  {
   "cell_type": "markdown",
   "id": "a9f4971b",
   "metadata": {},
   "source": [
    "#### Generate responses from the multimodal model"
   ]
  },
  {
   "cell_type": "code",
   "execution_count": 22,
   "id": "17e1a6e9",
   "metadata": {
    "tags": []
   },
   "outputs": [],
   "source": [
    "# \"COMPLETE THE MISSING PART AND RUN THIS CELL\"\n",
    "\n",
    "# In the next part of this task, you're going to generate responses from a multimodal model. Capture the output of the model in the \"responses\" variable by using your \"contents\" list.\n",
    "\n",
    "\n",
    "responses = multimodal_model.generate_content(contents, stream=True)"
   ]
  },
  {
   "cell_type": "markdown",
   "id": "7fa2d51f",
   "metadata": {},
   "source": [
    "#### Display the prompt and responses\n",
    "\n",
    "**Note:** If you encounter any authentication error below cell run, go to the **Navigation menu**, click **Vertex AI > Dashboard**, then click **\"Enable all Recommended APIs\"** Now, go back to cell 16, and run cells 16, 17 and below cell."
   ]
  },
  {
   "cell_type": "code",
   "execution_count": 23,
   "id": "ef32b772",
   "metadata": {
    "tags": []
   },
   "outputs": [
    {
     "name": "stdout",
     "output_type": "stream",
     "text": [
      "-------Prompt-------\n",
      "\n",
      "What is the product shown in this video?\n",
      "What specific product features are highlighted in the video?\n",
      "Where was this video filmed? Which cities around the world could potentially serve as the background in the video?\n",
      "What is the sentiment of the video?\n",
      "\n"
     ]
    },
    {
     "data": {
      "text/html": [
       "<video src=\"https://storage.googleapis.com/spls/gsp520/google-pixel-8-pro.mp4\" controls  width=\"600\" >\n",
       "      Your browser does not support the <code>video</code> element.\n",
       "    </video>"
      ],
      "text/plain": [
       "<IPython.core.display.Video object>"
      ]
     },
     "metadata": {},
     "output_type": "display_data"
    },
    {
     "name": "stdout",
     "output_type": "stream",
     "text": [
      "\n",
      "-------Response-------\n",
      "Here's an analysis of the video:\n",
      "\n",
      "*   **Product:** The video is advertising the Google Pixel 8 Pro smartphone.\n",
      "*   **Highlighted Features:**\n",
      "    *   AI-enhanced photo editing capabilities, specifically the \"Magic Eraser\" tool.\n",
      "    *   Audio editing to reduce noise and highlight speech in videos.\n",
      "    *   Group photo optimization to ensure everyone is smiling in the final shot.\n",
      "    *   Object removal tool.\n",
      "*   **Filming Location:** The video appears to be filmed in London, England. The architecture in the background is characteristic of the city.\n",
      "    *   Other cities with similar architecture and could potentially serve as a backdrop include:\n",
      "        *   Paris, France\n",
      "        *   Rome, Italy\n",
      "        *   Berlin, Germany\n",
      "        *   New York City, USA\n",
      "*   **Sentiment:** The video has a positive and playful sentiment. It uses upbeat music and energetic visuals to showcase the fun and creative possibilities of the phone's features. The tone is modern and aims to appeal to a young, tech-savvy audience."
     ]
    }
   ],
   "source": [
    "# \"COMPLETE THE MISSING PART AND RUN THIS CELL\"\n",
    "\n",
    "# In the last part of this task, you're going to print your contents and responses with the prompt and responses title provided. Use descriptive titles to help organize the output (e.g., \"Prompts\", \"Model Responses\") and then display the prompt and responses by using the print() function. \n",
    "\n",
    "# Hint: \"\\n\" inserts a newline character for clearer separation between the sections.\n",
    "\n",
    "print(\"-------Prompt-------\")\n",
    "print_multimodal_prompt(contents)\n",
    "\n",
    "print(\"\\n-------Response-------\")\n",
    "for response in responses:\n",
    "    print(response.text, end=\"\")"
   ]
  },
  {
   "cell_type": "markdown",
   "id": "0b4574b5-8ae4-4212-85d7-badc66e9d3df",
   "metadata": {},
   "source": [
    "Proceed to Task 1.4 below (no progress check for Task 1.3 in lab instructions). \n",
    "\n",
    "### Task 1.4. Extract tags of objects throughout the video\n",
    "\n",
    "#### Explore the variables of the task"
   ]
  },
  {
   "cell_type": "code",
   "execution_count": 40,
   "id": "69b54344-7190-46a4-877f-c9c9f7daa7a8",
   "metadata": {
    "tags": []
   },
   "outputs": [],
   "source": [
    "# \"COMPLETE THE MISSING PART AND RUN THIS CELL\"\n",
    "\n",
    "# You're going to work with provided variables in this task. First, review and describe the content/purpose of each variable below. \n",
    "\n",
    "prompt = \"\"\"\n",
    "Answer the following questions using the video only:\n",
    "\n",
    "Which particular sport is highlighted in the video?\n",
    "What values or beliefs does the advertisement communicate about the brand?\n",
    "What emotions or feelings does the advertisement evoke in the audience?\n",
    "Which tags associated with objects featured throughout the video could be extracted?\n",
    "\"\"\"\n",
    "video = Part.from_uri(\n",
    "    uri=\"gs://spls/gsp520/google-pixel-8-pro.mp4\",\n",
    "    mime_type=\"INSERT CORRECT MIME TYPE\",\n",
    ")"
   ]
  },
  {
   "cell_type": "markdown",
   "id": "2885e5bb",
   "metadata": {},
   "source": [
    "#### Create an input for the multimodal model"
   ]
  },
  {
   "cell_type": "code",
   "execution_count": 41,
   "id": "ab39bda2",
   "metadata": {
    "tags": []
   },
   "outputs": [],
   "source": [
    "# \"COMPLETE THE MISSING PART AND RUN THIS CELL\"\n",
    "\n",
    "# Now, you're going to create an input for your multimodal model. Create your contents list using the variables above. Ensure the structure matches the format expected by the multimodal model.\n",
    "\n",
    "contents = [prompt,video]"
   ]
  },
  {
   "cell_type": "markdown",
   "id": "ce38fe28",
   "metadata": {},
   "source": [
    "#### Generate responses from the multimodal model"
   ]
  },
  {
   "cell_type": "code",
   "execution_count": 42,
   "id": "442a83c5",
   "metadata": {
    "tags": []
   },
   "outputs": [],
   "source": [
    "# \"COMPLETE THE MISSING PART AND RUN THIS CELL\"\n",
    "\n",
    "# In the next part of this task, you're going to generate responses from a multimodal model. capture the output of the model in the \"responses\" variable by using your \"contents\" list and video input.\n",
    "\n",
    "\n",
    "responses = multimodal_model.generate_content(contents, stream=True)"
   ]
  },
  {
   "cell_type": "markdown",
   "id": "b090def3",
   "metadata": {},
   "source": [
    "#### Display the prompt and responses"
   ]
  },
  {
   "cell_type": "code",
   "execution_count": 45,
   "id": "b6cba353",
   "metadata": {
    "tags": []
   },
   "outputs": [
    {
     "name": "stdout",
     "output_type": "stream",
     "text": [
      "-------Prompt-------\n",
      "\n",
      "Answer the following questions using the video only:\n",
      "\n",
      "Which particular sport is highlighted in the video?\n",
      "What values or beliefs does the advertisement communicate about the brand?\n",
      "What emotions or feelings does the advertisement evoke in the audience?\n",
      "Which tags associated with objects featured throughout the video could be extracted?\n",
      "\n"
     ]
    },
    {
     "data": {
      "text/html": [
       "<video src=\"https://storage.googleapis.com/spls/gsp520/google-pixel-8-pro.mp4\" controls  width=\"600\" >\n",
       "      Your browser does not support the <code>video</code> element.\n",
       "    </video>"
      ],
      "text/plain": [
       "<IPython.core.display.Video object>"
      ]
     },
     "metadata": {},
     "output_type": "display_data"
    },
    {
     "name": "stdout",
     "output_type": "stream",
     "text": [
      "\n",
      "-------Response-------\n"
     ]
    }
   ],
   "source": [
    "# \"COMPLETE THE MISSING PART AND RUN THIS CELL\"\n",
    "\n",
    "# In the last part of this task, you're going to print your contents and responses with the prompt and responses title provided. Use descriptive titles to help organize the output (e.g., \"Prompts\", \"Model Responses\") and then display the prompt and responses by using the print() function. \n",
    "\n",
    "# Hint: \"\\n\" inserts a newline character for clearer separation between the sections.\n",
    "\n",
    "print(\"-------Prompt-------\")\n",
    "print_multimodal_prompt(contents)\n",
    "\n",
    "print(\"\\n-------Response-------\")\n",
    "for response in responses:\n",
    "    print(response, end=\"\")"
   ]
  },
  {
   "cell_type": "markdown",
   "id": "0932722c-fd8e-411a-a09e-ff1e530ba531",
   "metadata": {},
   "source": [
    "Proceed to Task 1.5 below (no progress check for Task 1.4 in lab instructions). \n",
    "\n",
    "### Task 1.5. Ask more questions about a video\n",
    "\n",
    "**Note:** Although this video contains audio, Gemini does not currently support audio input and will only answer based on the video.\n",
    "\n",
    "#### Explore the variables of the task"
   ]
  },
  {
   "cell_type": "code",
   "execution_count": 52,
   "id": "9c7d9b2e-f167-473e-8fce-65d677ec5ff9",
   "metadata": {
    "tags": []
   },
   "outputs": [],
   "source": [
    "# \"COMPLETE THE MISSING PART AND RUN THIS CELL\"\n",
    "\n",
    "# You're going to work with provided variables in this task. \n",
    "# First, review and describe the content/purpose of each variable below. \n",
    "\n",
    "\n",
    "prompt = \"\"\"\n",
    "Answer the following questions using the video only:\n",
    "\n",
    "How does the advertisement portray the use of technology, specifically AI, in capturing and preserving memories?\n",
    "What visual cues or storytelling elements contribute to the nostalgic atmosphere of the advertisement?\n",
    "How does the advertisement depict the role of friendship and social connections in enhancing experiences and creating memories?\n",
    "Are there any specific features or functionalities of the phone highlighted in the advertisement, besides its AI capabilities?\n",
    "\n",
    "Provide the answer JSON.\n",
    "\"\"\"\n",
    "video = Part.from_uri(\n",
    "    uri=\"gs://spls/gsp520/google-pixel-8-pro.mp4\",\n",
    "    mime_type=\"video/mp4\",\n",
    ")\n"
   ]
  },
  {
   "cell_type": "markdown",
   "id": "ae45d655",
   "metadata": {},
   "source": [
    "#### Create an input for the multimodal model"
   ]
  },
  {
   "cell_type": "code",
   "execution_count": 53,
   "id": "37f7cb3a",
   "metadata": {
    "tags": []
   },
   "outputs": [],
   "source": [
    "# \"COMPLETE THE MISSING PART AND RUN THIS CELL\"\n",
    "\n",
    "# Now, you're going to create an input for your multimodal model. Create your contents list using the variables above. Ensure the structure matches the format expected by the multimodal model.\n",
    "\n",
    "contents = [prompt,video]"
   ]
  },
  {
   "cell_type": "markdown",
   "id": "c61307a2",
   "metadata": {},
   "source": [
    "#### Generate responses from the multimodal model"
   ]
  },
  {
   "cell_type": "code",
   "execution_count": 54,
   "id": "6dea2a83",
   "metadata": {
    "tags": []
   },
   "outputs": [],
   "source": [
    "# \"COMPLETE THE MISSING PART AND RUN THIS CELL\"\n",
    "\n",
    "# In the next part of this task, you're going to generate responses from a multimodal model. capture the output of the model in the \"responses\" variable by using your \"contents\" list and video input.\n",
    "\n",
    "\n",
    "responses = multimodal_model.generate_content(contents, stream=True)"
   ]
  },
  {
   "cell_type": "markdown",
   "id": "987f77f7",
   "metadata": {},
   "source": [
    "#### Display the prompt and responses"
   ]
  },
  {
   "cell_type": "code",
   "execution_count": 55,
   "id": "d993e0c8",
   "metadata": {
    "tags": []
   },
   "outputs": [
    {
     "name": "stdout",
     "output_type": "stream",
     "text": [
      "-------Prompt-------\n",
      "\n",
      "Answer the following questions using the video only:\n",
      "\n",
      "How does the advertisement portray the use of technology, specifically AI, in capturing and preserving memories?\n",
      "What visual cues or storytelling elements contribute to the nostalgic atmosphere of the advertisement?\n",
      "How does the advertisement depict the role of friendship and social connections in enhancing experiences and creating memories?\n",
      "Are there any specific features or functionalities of the phone highlighted in the advertisement, besides its AI capabilities?\n",
      "\n",
      "Provide the answer JSON.\n",
      "\n"
     ]
    },
    {
     "data": {
      "text/html": [
       "<video src=\"https://storage.googleapis.com/spls/gsp520/google-pixel-8-pro.mp4\" controls  width=\"600\" >\n",
       "      Your browser does not support the <code>video</code> element.\n",
       "    </video>"
      ],
      "text/plain": [
       "<IPython.core.display.Video object>"
      ]
     },
     "metadata": {},
     "output_type": "display_data"
    },
    {
     "name": "stdout",
     "output_type": "stream",
     "text": [
      "\n",
      "-------Response-------\n",
      "```json\n",
      "{\n",
      "  \"AI_Portrayal\": \"The advertisement portrays AI as a tool to enhance captured memories. It uses AI to erase unwanted objects from photos, capture the best expressions in group shots, and clarify sounds in videos by isolating speech from background noise.\",\n",
      "  \"Nostalgia\": \"The visual cues contributing to the nostalgic atmosphere include the use of everyday moments like taking photos with friends and family, and capturing the simple joys of life. The focus is on capturing moments that can be looked back on fondly, implying a sense of nostalgia for those times.\",\n",
      "  \"Friendship_SocialConnections\": \"The advertisement depicts friendship and social connections through scenes of friends taking selfies together in a field and on a basketball court, highlighting the phone's ability to capture these moments effectively and ensure everyone looks their best. These scenes emphasize the importance of shared experiences and capturing them with loved ones.\",\n",
      "  \"Phone_Features\": \"Besides AI capabilities, the advertisement highlights features like the ability to take group photos, capture action shots (like a basketball dunk), and the ability to record videos. Also, the phone has features to erase unwanted objects, change faces, and capture audio clearly.\"\n",
      "}\n",
      "```"
     ]
    }
   ],
   "source": [
    "# \"COMPLETE THE MISSING PART AND RUN THIS CELL\"\n",
    "\n",
    "# In the last part of this task, you're going to print your contents and responses with the prompt and responses title provided. Use descriptive titles to help organize the output (e.g., \"Prompts\", \"Model Responses\") and then display the prompt and responses by using the print() function. \n",
    "\n",
    "# Hint: \"\\n\" inserts a newline character for clearer separation between the sections.\n",
    "\n",
    "print(\"-------Prompt-------\")\n",
    "print_multimodal_prompt(contents)\n",
    "\n",
    "print(\"\\n-------Response-------\")\n",
    "for response in responses:\n",
    "    print(response.text, end=\"\")"
   ]
  },
  {
   "cell_type": "markdown",
   "id": "b238a1a4-7b7c-463f-af54-d853f1786b73",
   "metadata": {},
   "source": [
    "Proceed to Task 1.6 below (no progress check for Task 1.5 in lab instructions). \n",
    "\n",
    "### Task 1.6. Retrieve extra information beyond the video\n",
    "\n",
    "#### Explore the variables of the task"
   ]
  },
  {
   "cell_type": "code",
   "execution_count": 56,
   "id": "e1668408-6c55-460f-b687-5916b417ed85",
   "metadata": {
    "tags": []
   },
   "outputs": [],
   "source": [
    "# \"COMPLETE THE MISSING PART AND RUN THIS CELL\"\n",
    "\n",
    "# You're going to work with provided variables in this task. \n",
    "# First, review and describe the content/purpose of each variable below. \n",
    "\n",
    "\n",
    "prompt = \"\"\"\n",
    "Answer the following questions using the video only:\n",
    "\n",
    "How does the advertisement appeal to its target audience through its messaging and imagery?\n",
    "What overall message or takeaway does the advertisement convey about the brand and its products?\n",
    "Are there any symbolic elements or motifs used throughout the advertisement to reinforce its central themes?\n",
    "What is the best hashtag for this video based on the description ?\n",
    "\n",
    "\"\"\"\n",
    "video = Part.from_uri(\n",
    "    uri=\"https://storage.googleapis.com/spls/gsp520/google-pixel-8-pro.mp4\",\n",
    "    mime_type=\"video/mp4\",\n",
    ")"
   ]
  },
  {
   "cell_type": "markdown",
   "id": "868429f1",
   "metadata": {},
   "source": [
    "#### Create an input for the multimodal model"
   ]
  },
  {
   "cell_type": "code",
   "execution_count": 57,
   "id": "3ec4cd5e",
   "metadata": {
    "tags": []
   },
   "outputs": [],
   "source": [
    "# \"COMPLETE THE MISSING PART AND RUN THIS CELL\"\n",
    "\n",
    "# Now, you're going to create an input for your multimodal model. Create your contents list using the variables above. Ensure the structure matches the format expected by the multimodal model.\n",
    "\n",
    "contents =[prompt,video]"
   ]
  },
  {
   "cell_type": "markdown",
   "id": "7b46261e",
   "metadata": {},
   "source": [
    "#### Generate responses from the multimodal model"
   ]
  },
  {
   "cell_type": "code",
   "execution_count": 58,
   "id": "65bb93f7",
   "metadata": {
    "tags": []
   },
   "outputs": [],
   "source": [
    "# \"COMPLETE THE MISSING PART AND RUN THIS CELL\"\n",
    "\n",
    "# In the next part of this task, you're going to generate responses from a multimodal model. capture the output of the model in the \"responses\" variable by using your \"contents\" list and video input.\n",
    "\n",
    "\n",
    "responses = multimodal_model.generate_content(contents, stream=True)"
   ]
  },
  {
   "cell_type": "markdown",
   "id": "aa426629",
   "metadata": {},
   "source": [
    "#### Display the prompt and responses"
   ]
  },
  {
   "cell_type": "code",
   "execution_count": 59,
   "id": "c492f1f0",
   "metadata": {
    "tags": []
   },
   "outputs": [
    {
     "name": "stdout",
     "output_type": "stream",
     "text": [
      "-------Prompt-------\n",
      "\n",
      "Answer the following questions using the video only:\n",
      "\n",
      "How does the advertisement appeal to its target audience through its messaging and imagery?\n",
      "What overall message or takeaway does the advertisement convey about the brand and its products?\n",
      "Are there any symbolic elements or motifs used throughout the advertisement to reinforce its central themes?\n",
      "What is the best hashtag for this video based on the description ?\n",
      "\n",
      "\n"
     ]
    },
    {
     "data": {
      "text/html": [
       "<video src=\"https://storage.googleapis.com/https://storage.googleapis.com/spls/gsp520/google-pixel-8-pro.mp4\" controls  width=\"600\" >\n",
       "      Your browser does not support the <code>video</code> element.\n",
       "    </video>"
      ],
      "text/plain": [
       "<IPython.core.display.Video object>"
      ]
     },
     "metadata": {},
     "output_type": "display_data"
    },
    {
     "name": "stdout",
     "output_type": "stream",
     "text": [
      "\n",
      "-------Response-------\n",
      "Okay, here are the answers to your questions based on the provided video:\n",
      "\n",
      "*   **How does the advertisement appeal to its target audience through its messaging and imagery?**\n",
      "\n",
      "The advertisement uses images and sounds of people in the city, parks, and homes, interacting with each other. The target audience is also shown through people of different ages, colors, and genders. The features of the product, like removing people from the background, editing sounds, and making everyone smile are showcased.\n",
      "\n",
      "*   **What overall message or takeaway does the advertisement convey about the brand and its products?**\n",
      "\n",
      "The overall message is that the Google Pixel 8 Pro has powerful AI features that make it easy to take, edit, and enhance your photos and videos. The takeaway is that the phone can improve photos with the \"Magic Eraser\", and remove noises while taking videos and editing.\n",
      "\n",
      "*   **Are there any symbolic elements or motifs used throughout the advertisement to reinforce its central themes?**\n",
      "\n",
      "The constant presence of people in groups and alone reinforces the idea that the phone can be used in many settings. The use of AI, editing features, and the different scenarios show how accessible the phone is.\n",
      "\n",
      "*   **What is the best hashtag for this video based on the description ?**\n",
      "\n",
      "Based on the video description, a relevant hashtag would be: #GooglePixel8Pro"
     ]
    }
   ],
   "source": [
    "# \"COMPLETE THE MISSING PART AND RUN THIS CELL\"\n",
    "\n",
    "# In the last part of this task, you're going to print your contents and responses with the prompt and responses title provided. Use descriptive titles to help organize the output (e.g., \"Prompts\", \"Model Responses\") and then display the prompt and responses by using the print() function. \n",
    "\n",
    "# Hint: \"\\n\" inserts a newline character for clearer separation between the sections.\n",
    "\n",
    "print(\"-------Prompt-------\")\n",
    "print_multimodal_prompt(contents)\n",
    "\n",
    "print(\"\\n-------Response-------\")\n",
    "for response in responses:\n",
    "    print(response.text, end=\"\")"
   ]
  },
  {
   "cell_type": "markdown",
   "id": "40f908d1-b54f-4d8d-993e-faec763d7a37",
   "metadata": {},
   "source": [
    "### To verify your work for Task 1.6, click __Check my progress__ in the lab instructions."
   ]
  },
  {
   "cell_type": "markdown",
   "id": "42950158-1e1f-40bd-97b4-d18474dd86fe",
   "metadata": {},
   "source": [
    "## Task 2. Retrieving and integrating knowledge with multimodal retrieval augmented generation (RAG)\n",
    "\n",
    "To complete Task 2, follow the instructions at the top of each notebook cell:\n",
    "* Run the cells with the comment \"RUN THIS CELL AS IS\".\n",
    "* Complete and run the cells with the comment \"COMPLETE THE MISSING PART AND RUN THIS CELL\".\n",
    "\n",
    "For additional information about the available data and helper functions for Task 2, review the section named __Available data and helper functions for Task 2__ in the lab instructions.\n",
    "\n",
    "### Setup and requirements for Task 2\n",
    "\n",
    "#### Import libraries"
   ]
  },
  {
   "cell_type": "code",
   "execution_count": 60,
   "id": "c106e655-0da7-4eba-8595-706622ab7ef3",
   "metadata": {
    "tags": []
   },
   "outputs": [],
   "source": [
    "# \"RUN THIS CELL AS IS\"\n",
    "\n",
    "# Import necessary packages and libraries.\n",
    "\n",
    "from IPython.display import Markdown, display\n",
    "from vertexai.generative_models import (\n",
    "    Content,\n",
    "    GenerationConfig,\n",
    "    GenerationResponse,\n",
    "    GenerativeModel,\n",
    "    HarmCategory,\n",
    "    HarmBlockThreshold,\n",
    "    Image,\n",
    "    Part,\n",
    ")\n"
   ]
  },
  {
   "cell_type": "markdown",
   "id": "860ce78c",
   "metadata": {},
   "source": [
    "#### Load the Gemini 2.0 Flash model"
   ]
  },
  {
   "cell_type": "code",
   "execution_count": 61,
   "id": "be19c04e-b7d2-4439-a0bd-58ffa0c1f2dc",
   "metadata": {
    "tags": []
   },
   "outputs": [],
   "source": [
    "# \"RUN THIS CELL AS IS\"\n",
    "\n",
    "# Load the Gemini 2.0 Flash model.\n",
    "\n",
    "multimodal_model = GenerativeModel(\"gemini-2.0-flash-001\")"
   ]
  },
  {
   "cell_type": "markdown",
   "id": "bb962cea-0b31-43f6-b757-90bc1ff1cd5b",
   "metadata": {},
   "source": [
    "#### Download custom Python modules and utilities \n",
    "\n",
    "The cell below will download some helper functions needed for this notebook, to improve readability. You can also view the code (`intro_multimodal_rag_utils.py`) directly on [GitHub](https://raw.githubusercontent.com/GoogleCloudPlatform/generative-ai/main/gemini/use-cases/retrieval-augmented-generation/utils/intro_multimodal_rag_utils.py)."
   ]
  },
  {
   "cell_type": "code",
   "execution_count": 62,
   "id": "12aa75ac-3512-4ee2-a4b6-e8e926d19587",
   "metadata": {
    "tags": []
   },
   "outputs": [],
   "source": [
    "# \"RUN THIS CELL AS IS\"\n",
    "\n",
    "# Import necessary packages and libraries.\n",
    "import os\n",
    "import urllib.request\n",
    "import sys\n",
    "\n",
    "if not os.path.exists(\"utils\"):\n",
    "    os.makedirs(\"utils\")\n",
    "\n",
    "\n",
    "# Download the helper scripts from utils folder.\n",
    "url_prefix = \"https://raw.githubusercontent.com/GoogleCloudPlatform/generative-ai/main/gemini/use-cases/retrieval-augmented-generation/utils/\"\n",
    "files = [\"intro_multimodal_rag_utils.py\"]\n",
    "\n",
    "for fname in files:\n",
    "    urllib.request.urlretrieve(f\"{url_prefix}/{fname}\", filename=f\"utils/{fname}\")\n"
   ]
  },
  {
   "cell_type": "markdown",
   "id": "b3a4c367-585d-4e15-883d-ed0a674475f1",
   "metadata": {},
   "source": [
    "#### Get documents and images from Cloud Storage"
   ]
  },
  {
   "cell_type": "code",
   "execution_count": 63,
   "id": "b83f06b4-4e9c-449b-94f3-4175b37777c4",
   "metadata": {
    "tags": []
   },
   "outputs": [
    {
     "name": "stdout",
     "output_type": "stream",
     "text": [
      "Building synchronization state...\n",
      "Starting synchronization...\n",
      "Copying gs://spls/gsp520/Google_Branding/Ask_first_3.png...\n",
      "Copying gs://spls/gsp520/Google_Branding/Ask_first_1.png...                     \n",
      "Copying gs://spls/gsp520/Google_Branding/.DS_Store...                           \n",
      "Copying gs://spls/gsp520/Google_Branding/Dont_do_this_2.png...                  \n",
      "Copying gs://spls/gsp520/Google_Branding/Ask_first_2.png...                     \n",
      "Copying gs://spls/gsp520/Google_Branding/Go_for_it_1.png...                     \n",
      "Copying gs://spls/gsp520/Google_Branding/Dont_do_this_3.png...                  \n",
      "Copying gs://spls/gsp520/Google_Branding/Dont_do_this_5.png...                  \n",
      "Copying gs://spls/gsp520/Google_Branding/Dont_do_this_4.png...                  \n",
      "Copying gs://spls/gsp520/Google_Branding/Dont_do_this_1.png...                  \n",
      "Copying gs://spls/gsp520/Google_Branding/Dont_do_this_6.png...                  \n",
      "Copying gs://spls/gsp520/Google_Branding/Go_for_it_2.png...                     \n",
      "Copying gs://spls/gsp520/Google_Branding/Go_for_it_3.png...                     \n",
      "Copying gs://spls/gsp520/Google_Branding/Go_for_it_4.png...                     \n",
      "Copying gs://spls/gsp520/Google_Branding/Go_for_it_5.png...                     \n",
      "Copying gs://spls/gsp520/Google_Branding/Go_for_it_6.png...                     \n",
      "Copying gs://spls/gsp520/Google_Branding/Google_terms_of_service_en_us.pdf...   \n",
      "Copying gs://spls/gsp520/google-pixel-8-pro.mp4...                              \n",
      "\\ [18/18 files][ 10.8 MiB/ 10.8 MiB] 100% Done                                  \n",
      "Operation completed over 18 objects/10.8 MiB.                                    \n",
      "Download completed\n"
     ]
    }
   ],
   "source": [
    "# \"RUN THIS CELL AS IS\"\n",
    "\n",
    "# Download documents and images used in this notebook.\n",
    "\n",
    "!gsutil -m rsync -r gs://spls/gsp520 .\n",
    "print(\"Download completed\")"
   ]
  },
  {
   "cell_type": "markdown",
   "id": "43b72d16-d530-424b-934a-ebf091bc254c",
   "metadata": {},
   "source": [
    "### Task 2.1. Build metadata of documents containing text and images\n",
    "\n",
    "__Note__: These steps may take a few minutes to complete.\n",
    "\n",
    "#### Import helper functions to build metadata"
   ]
  },
  {
   "cell_type": "code",
   "execution_count": 64,
   "id": "442e1759-0c37-44ff-9f2b-85ee427e7f9d",
   "metadata": {
    "tags": []
   },
   "outputs": [],
   "source": [
    "# \"RUN THIS CELL AS IS\"\n",
    "\n",
    "# Import helper functions from utils.\n",
    "from utils.intro_multimodal_rag_utils import get_document_metadata"
   ]
  },
  {
   "cell_type": "markdown",
   "id": "2dcfd03c-9713-4621-b5e5-fee645d338e9",
   "metadata": {},
   "source": [
    "#### Explore the variables of the task"
   ]
  },
  {
   "cell_type": "code",
   "execution_count": 65,
   "id": "8c2b6d28-4d64-4e03-b395-23bd2c8b6bbc",
   "metadata": {
    "tags": []
   },
   "outputs": [],
   "source": [
    "# \"RUN THIS CELL AS IS\"\n",
    "\n",
    "# You're going to work with provided variables in this task. \n",
    "# First, review and describe the content/purpose of each variable below. \n",
    "\n",
    "\n",
    "# Specify the \"PDF folder path\" with single PDF and \"PDF folder\" with multiple PDF.\n",
    "\n",
    "pdf_folder_path = \"Google_Branding/\"  # if running in Vertex AI Workbench.\n",
    "\n",
    "# Specify the image description prompt. Change it\n",
    "image_description_prompt = \"\"\"Explain what is going on in the image.\n",
    "If it's a table, extract all elements of the table.\n",
    "If it's a graph, explain the findings in the graph.\n",
    "Do not include any numbers that are not mentioned in the image.\n",
    "\"\"\""
   ]
  },
  {
   "cell_type": "markdown",
   "id": "60611e48",
   "metadata": {},
   "source": [
    "\n",
    "#### Extract and store metadata of text and images from a document"
   ]
  },
  {
   "cell_type": "code",
   "execution_count": 66,
   "id": "ca9d2331",
   "metadata": {
    "tags": []
   },
   "outputs": [
    {
     "name": "stdout",
     "output_type": "stream",
     "text": [
      "\n",
      "\n",
      " Processing the file: --------------------------------- Google_Branding/Google_terms_of_service_en_us.pdf \n",
      "\n",
      "\n",
      "Processing page: 1\n",
      "Processing page: 2\n",
      "Processing page: 3\n",
      "Processing page: 4\n",
      "Processing page: 5\n",
      "Processing page: 6\n",
      "Processing page: 7\n",
      "Processing page: 8\n",
      "Processing page: 9\n",
      "Processing page: 10\n",
      "Processing page: 11\n",
      "Processing page: 12\n",
      "Processing page: 13\n",
      "Processing page: 14\n",
      "Processing page: 15\n",
      "Processing page: 16\n",
      "\n",
      "\n",
      " --- Completed processing. ---\n"
     ]
    }
   ],
   "source": [
    "# \"COMPLETE THE MISSING PART AND RUN THIS CELL\"\n",
    "\n",
    "# Call the \"get_document_metadata\" function from the utils file to extract text and image metadata from the PDF document. Store the results in two different DataFrames: \"text_metadata_df\" and \"image_metadata_df\".  \n",
    "# text_metadata_df: This will contain extracted text snippets, their corresponding page numbers, and potentially other relevant information.\n",
    "# image_metadata_df: This will contain descriptions of the images found in the PDF (if any), along with their location within the document.\n",
    "\n",
    "text_metadata_df, image_metadata_df =  get_document_metadata(\n",
    "    multimodal_model, \n",
    "    pdf_folder_path,\n",
    "    image_save_dir=\"images\",\n",
    "    image_description_prompt=image_description_prompt,\n",
    "    embedding_size=1408,\n",
    ")\n",
    "\n",
    "print(\"\\n\\n --- Completed processing. ---\")"
   ]
  },
  {
   "cell_type": "markdown",
   "id": "a96cd147-4ce1-4110-9c5b-d755e7a07457",
   "metadata": {},
   "source": [
    "#### Inspect the processed text metadata"
   ]
  },
  {
   "cell_type": "code",
   "execution_count": 67,
   "id": "3f471508-1a38-4e3b-a4be-47e82acaf54b",
   "metadata": {
    "tags": []
   },
   "outputs": [
    {
     "data": {
      "text/html": [
       "<div>\n",
       "<style scoped>\n",
       "    .dataframe tbody tr th:only-of-type {\n",
       "        vertical-align: middle;\n",
       "    }\n",
       "\n",
       "    .dataframe tbody tr th {\n",
       "        vertical-align: top;\n",
       "    }\n",
       "\n",
       "    .dataframe thead th {\n",
       "        text-align: right;\n",
       "    }\n",
       "</style>\n",
       "<table border=\"1\" class=\"dataframe\">\n",
       "  <thead>\n",
       "    <tr style=\"text-align: right;\">\n",
       "      <th></th>\n",
       "      <th>file_name</th>\n",
       "      <th>page_num</th>\n",
       "      <th>text</th>\n",
       "      <th>text_embedding_page</th>\n",
       "      <th>chunk_number</th>\n",
       "      <th>chunk_text</th>\n",
       "      <th>text_embedding_chunk</th>\n",
       "    </tr>\n",
       "  </thead>\n",
       "  <tbody>\n",
       "    <tr>\n",
       "      <th>0</th>\n",
       "      <td>Google_terms_of_service_en_us.pdf</td>\n",
       "      <td>1</td>\n",
       "      <td>GOOGLE TERMS OF SERVICE\\nEffective January 5, ...</td>\n",
       "      <td>[-0.012991457246243954, 0.00233408878557384, 0...</td>\n",
       "      <td>1</td>\n",
       "      <td>GOOGLE TERMS OF SERVICE\\nEffective January 5, ...</td>\n",
       "      <td>[-0.005565959494560957, 0.0008999718702398241,...</td>\n",
       "    </tr>\n",
       "    <tr>\n",
       "      <th>1</th>\n",
       "      <td>Google_terms_of_service_en_us.pdf</td>\n",
       "      <td>1</td>\n",
       "      <td>GOOGLE TERMS OF SERVICE\\nEffective January 5, ...</td>\n",
       "      <td>[-0.012991457246243954, 0.00233408878557384, 0...</td>\n",
       "      <td>2</td>\n",
       "      <td>ongs to you, Google, or others\\nIn case of pro...</td>\n",
       "      <td>[-0.02242434397339821, -0.02287789061665535, -...</td>\n",
       "    </tr>\n",
       "    <tr>\n",
       "      <th>2</th>\n",
       "      <td>Google_terms_of_service_en_us.pdf</td>\n",
       "      <td>2</td>\n",
       "      <td>Google services are provided by, and youre con...</td>\n",
       "      <td>[-0.027467481791973114, -0.03269978240132332, ...</td>\n",
       "      <td>1</td>\n",
       "      <td>Google services are provided by, and youre con...</td>\n",
       "      <td>[-0.030542202293872833, -0.03709811717271805, ...</td>\n",
       "    </tr>\n",
       "    <tr>\n",
       "      <th>3</th>\n",
       "      <td>Google_terms_of_service_en_us.pdf</td>\n",
       "      <td>2</td>\n",
       "      <td>Google services are provided by, and youre con...</td>\n",
       "      <td>[-0.027467481791973114, -0.03269978240132332, ...</td>\n",
       "      <td>2</td>\n",
       "      <td>\\nto use our services if you agree to follow t...</td>\n",
       "      <td>[-0.010060024447739124, -0.006401533726602793,...</td>\n",
       "    </tr>\n",
       "    <tr>\n",
       "      <th>4</th>\n",
       "      <td>Google_terms_of_service_en_us.pdf</td>\n",
       "      <td>3</td>\n",
       "      <td>apps and sites (like Search and Maps)\\nplatfor...</td>\n",
       "      <td>[-0.024841992184519768, -0.016507208347320557,...</td>\n",
       "      <td>1</td>\n",
       "      <td>apps and sites (like Search and Maps)\\nplatfor...</td>\n",
       "      <td>[-0.022818822413682938, -0.026401124894618988,...</td>\n",
       "    </tr>\n",
       "  </tbody>\n",
       "</table>\n",
       "</div>"
      ],
      "text/plain": [
       "                           file_name  page_num  \\\n",
       "0  Google_terms_of_service_en_us.pdf         1   \n",
       "1  Google_terms_of_service_en_us.pdf         1   \n",
       "2  Google_terms_of_service_en_us.pdf         2   \n",
       "3  Google_terms_of_service_en_us.pdf         2   \n",
       "4  Google_terms_of_service_en_us.pdf         3   \n",
       "\n",
       "                                                text  \\\n",
       "0  GOOGLE TERMS OF SERVICE\\nEffective January 5, ...   \n",
       "1  GOOGLE TERMS OF SERVICE\\nEffective January 5, ...   \n",
       "2  Google services are provided by, and youre con...   \n",
       "3  Google services are provided by, and youre con...   \n",
       "4  apps and sites (like Search and Maps)\\nplatfor...   \n",
       "\n",
       "                                 text_embedding_page  chunk_number  \\\n",
       "0  [-0.012991457246243954, 0.00233408878557384, 0...             1   \n",
       "1  [-0.012991457246243954, 0.00233408878557384, 0...             2   \n",
       "2  [-0.027467481791973114, -0.03269978240132332, ...             1   \n",
       "3  [-0.027467481791973114, -0.03269978240132332, ...             2   \n",
       "4  [-0.024841992184519768, -0.016507208347320557,...             1   \n",
       "\n",
       "                                          chunk_text  \\\n",
       "0  GOOGLE TERMS OF SERVICE\\nEffective January 5, ...   \n",
       "1  ongs to you, Google, or others\\nIn case of pro...   \n",
       "2  Google services are provided by, and youre con...   \n",
       "3  \\nto use our services if you agree to follow t...   \n",
       "4  apps and sites (like Search and Maps)\\nplatfor...   \n",
       "\n",
       "                                text_embedding_chunk  \n",
       "0  [-0.005565959494560957, 0.0008999718702398241,...  \n",
       "1  [-0.02242434397339821, -0.02287789061665535, -...  \n",
       "2  [-0.030542202293872833, -0.03709811717271805, ...  \n",
       "3  [-0.010060024447739124, -0.006401533726602793,...  \n",
       "4  [-0.022818822413682938, -0.026401124894618988,...  "
      ]
     },
     "execution_count": 67,
     "metadata": {},
     "output_type": "execute_result"
    }
   ],
   "source": [
    "# \"COMPLETE THE MISSING PART AND RUN THIS CELL\"\n",
    "\n",
    "# Explore the text_metadata_df dataframe by displaying the first few rows of the dataframe.\n",
    "\n",
    "text_metadata_df.head()"
   ]
  },
  {
   "cell_type": "markdown",
   "id": "43ed0c6a-3d40-497b-b2c5-4a86c3b65c8d",
   "metadata": {},
   "source": [
    "#### Import the helper functions to implement RAG"
   ]
  },
  {
   "cell_type": "code",
   "execution_count": 68,
   "id": "c4580d12-94a1-4e1b-8ff6-587916c85241",
   "metadata": {
    "tags": []
   },
   "outputs": [],
   "source": [
    "# \"COMPLETE THE MISSING PART AND RUN THIS CELL\"\n",
    "\n",
    "# Import helper functions from utils.\n",
    "\n",
    "from utils.intro_multimodal_rag_utils import (\n",
    "    get_similar_text_from_query,\n",
    "    print_text_to_text_citation,\n",
    "    get_similar_image_from_query,\n",
    "    print_text_to_image_citation,\n",
    "    get_gemini_response,\n",
    "    display_images,\n",
    ")"
   ]
  },
  {
   "cell_type": "markdown",
   "id": "f110046a-0615-4836-8776-113bba1b4088",
   "metadata": {},
   "source": [
    "Proceed to Task 2.2 below (no progress check for Task 2.1 in lab instructions). \n",
    "\n",
    "### Task 2.2. Create a user query\n",
    "\n",
    "#### Explore the variables of the task"
   ]
  },
  {
   "cell_type": "code",
   "execution_count": 69,
   "id": "9ad2d8f5-f937-44fc-9c2d-2a1426134bb8",
   "metadata": {
    "tags": []
   },
   "outputs": [],
   "source": [
    "# \"RUN THIS CELL AS IS\"\n",
    "\n",
    "# You're going to work with provided variables in this task. \n",
    "# First, review and describe the content/purpose of each variable below. \n",
    "\n",
    "query = \"\"\"Questions:\n",
    " - What are the key expectations that users can have from Google regarding the provision and development of its services?\n",
    "- What specific rules and guidelines are established for users when using Google services?\n",
    "- How does Google handle intellectual property rights related to the content found within its services, including content owned by users, Google, and third parties? \n",
    "- What legal rights and remedies are available to users in case of problems or disagreements with Google?\n",
    "- How do the service-specific additional terms interact with these general Terms of Service, and which terms take precedence in case of any conflicts?\n",
    " \"\"\""
   ]
  },
  {
   "cell_type": "markdown",
   "id": "e7d1fa0d-3b6f-44ff-bcbf-8c8b184f9ba7",
   "metadata": {},
   "source": [
    "Proceed to Task 2.3 below (no progress check for Task 2.2 in lab instructions).\n",
    "\n",
    "### Task 2.3. Get all relevant text chunks\n",
    "\n",
    "#### Retrieve relevant chunks of text based on the query"
   ]
  },
  {
   "cell_type": "code",
   "execution_count": 70,
   "id": "cfbc25d9-2d7e-433e-a5df-8d38eae9e75f",
   "metadata": {
    "tags": []
   },
   "outputs": [],
   "source": [
    "# \"COMPLETE THE MISSING PART AND RUN THIS CELL\"\n",
    "\n",
    "# Call the \"get_similar_text_from_query\" function from the utils file to retrieve relevant chunks of text based on the query. Store the results in a dictionary called \"matching_results_chunks_data\".  \n",
    "# matching_results_chunks_data: This dictionary will contain file_name, page_num, cosine_score, chunk_number and chunk_score. The dictionary represents a search result for a query related to the text_metadata_df.\n",
    "\n",
    "matching_results_chunks_data = get_similar_text_from_query(\n",
    "    query,\n",
    "    text_metadata_df,\n",
    "    column_name=\"text_embedding_chunk\",\n",
    "    top_n=10,\n",
    "    chunk_text=True,\n",
    ")\n"
   ]
  },
  {
   "cell_type": "markdown",
   "id": "6e4ec297-ca76-4cee-a008-c22002a0f7d3",
   "metadata": {},
   "source": [
    "#### Display the first item of the text chunk dictionary"
   ]
  },
  {
   "cell_type": "code",
   "execution_count": 71,
   "id": "d5d72676-9721-4ade-9342-5ffa4dec45ed",
   "metadata": {
    "tags": []
   },
   "outputs": [
    {
     "name": "stdout",
     "output_type": "stream",
     "text": [
      "\u001b[31mCitation 1: Matched text:\u001b[0m\n",
      "\u001b[34mScore:\u001b[0m 0.87\n",
      "\u001b[34mFile name:\u001b[0m Google_terms_of_service_en_us.pdf\n",
      "\u001b[34mPage:\u001b[0m 1\n",
      "\u001b[34mPage number:\u001b[0m 1\n",
      "\u001b[34mChunk number:\u001b[0m 1\n",
      "\u001b[34mChunk text:\u001b[0m GOOGLE TERMS OF SERVICE\n",
      "Effective January 5, 2022\n",
      "Archived versions\n",
      "Whats covered in these terms\n",
      "We know its tempting to skip these Terms of Service, but\n",
      "its important to establish what you can expect from us as\n",
      "you use Google services, and what we expect from you.\n",
      "These Terms of Service reflect the way Googles business works, the laws that apply to our company, and\n",
      "certain things weve always believed to be true. As a result, these Terms of Service help define Googles\n",
      "relationship with you as you interact with our services. For example, these terms include the following topic\n",
      "headings:\n",
      "What you can expect from us, which describes how we provide and develop our services\n",
      "What we expect from you, which establishes certain rules for using our services\n",
      "Content in Google services, which describes the intellectual property rights to the content you find in our\n",
      "services  whether that content belongs to you, Google, or others\n",
      "In case of problems or disagreements, which describes other legal rig\n",
      "\u001b[31mCitation 2: Matched text:\u001b[0m\n",
      "\u001b[34mScore:\u001b[0m 0.83\n",
      "\u001b[34mFile name:\u001b[0m Google_terms_of_service_en_us.pdf\n",
      "\u001b[34mPage:\u001b[0m 13\n",
      "\u001b[34mPage number:\u001b[0m 13\n",
      "\u001b[34mChunk number:\u001b[0m 1\n",
      "\u001b[34mChunk text:\u001b[0m About these terms\n",
      "By law, you have certain rights that cant be limited by a contract like these terms of service. These terms are\n",
      "in no way intended to restrict those rights.\n",
      "These terms describe the relationship between you and Google. They dont create any legal rights for other\n",
      "people or organizations, even if others benefit from that relationship under these terms.\n",
      "We want to make these terms easy to understand, so weve used examples from our services. But not all\n",
      "services mentioned may be available in your country.\n",
      "If these terms conflict with the service-specific additional terms, the additional terms will govern for that\n",
      "service.\n",
      "If it turns out that a particular term is not valid or enforceable, this will not affect any other terms.\n",
      "If you dont follow these terms or the service-specific additional terms, and we dont take action right away,\n",
      "that doesnt mean were giving up any rights that we may have, such as taking action in the future.\n",
      "We may update these terms and service-speci\n",
      "\u001b[31mCitation 3: Matched text:\u001b[0m\n",
      "\u001b[34mScore:\u001b[0m 0.8\n",
      "\u001b[34mFile name:\u001b[0m Google_terms_of_service_en_us.pdf\n",
      "\u001b[34mPage:\u001b[0m 2\n",
      "\u001b[34mPage number:\u001b[0m 2\n",
      "\u001b[34mChunk number:\u001b[0m 2\n",
      "\u001b[34mChunk text:\u001b[0m \n",
      "to use our services if you agree to follow these terms, which reflect how Googles business works and how we\n",
      "earn money. When we speak of Google, we, us, and our, we mean Google LLC and its affiliates.\n",
      "What you can expect from us\n",
      "Provide a broad range of useful services\n",
      "We provide a broad range of services that are subject to these terms, including:\n",
      "\n",
      "\u001b[31mCitation 4: Matched text:\u001b[0m\n",
      "\u001b[34mScore:\u001b[0m 0.76\n",
      "\u001b[34mFile name:\u001b[0m Google_terms_of_service_en_us.pdf\n",
      "\u001b[34mPage:\u001b[0m 11\n",
      "\u001b[34mPage number:\u001b[0m 11\n",
      "\u001b[34mChunk number:\u001b[0m 1\n",
      "\u001b[34mChunk text:\u001b[0m To the extent allowed by applicable law:\n",
      "Google is liable only for its breaches of these terms or applicable service-specific additional terms\n",
      "Google isnt liable for:\n",
      "loss of profits, revenues, business opportunities, goodwill, or anticipated savings\n",
      "indirect or consequential losses\n",
      "punitive damages\n",
      "Googles total liability arising out of or relating to these terms is limited to the greater of (1) $200 or (2)\n",
      "the fees paid to use the relevant services in the 12 months before the dispute\n",
      "For business users and organizations only\n",
      "If youre a business user or organization:\n",
      "To the extent allowed by applicable law, youll indemnify Google and its directors, officers, employees,\n",
      "and contractors for any third-party legal proceedings (including actions by government authorities)\n",
      "arising out of or relating to your unlawful use of the services or violation of these terms or service-\n",
      "specific additional terms. This indemnity covers any liability or expense arising from claims, losses,\n",
      "damages, judgm\n",
      "\u001b[31mCitation 5: Matched text:\u001b[0m\n",
      "\u001b[34mScore:\u001b[0m 0.75\n",
      "\u001b[34mFile name:\u001b[0m Google_terms_of_service_en_us.pdf\n",
      "\u001b[34mPage:\u001b[0m 13\n",
      "\u001b[34mPage number:\u001b[0m 13\n",
      "\u001b[34mChunk number:\u001b[0m 2\n",
      "\u001b[34mChunk text:\u001b[0m s that we may have, such as taking action in the future.\n",
      "We may update these terms and service-specific additional terms (1) to reflect changes in our services or how\n",
      "we do business  for example, when we add new services, features, technologies, pricing, or benefits (or\n",
      "remove old ones), (2) for legal, regulatory, or security reasons, or (3) to prevent abuse or harm.\n",
      "If we materially change these terms or service-specific additional terms, well provide you with reasonable\n",
      "advance notice and the opportunity to review the changes, except (1) when we launch a new service or\n",
      "feature, or (2) in urgent situations, such as preventing ongoing abuse or responding to legal requirements. If\n",
      "you dont agree to the new terms, you should remove your content and stop using the services. You can also\n",
      "end your relationship with us at any time by closing your Google Account.\n",
      "DEFINITIONS\n",
      "affiliate\n",
      "An entity that belongs to the Google group of companies, which means Google LLC and its subsidiaries,\n",
      "includi\n",
      "\u001b[31mCitation 6: Matched text:\u001b[0m\n",
      "\u001b[34mScore:\u001b[0m 0.74\n",
      "\u001b[34mFile name:\u001b[0m Google_terms_of_service_en_us.pdf\n",
      "\u001b[34mPage:\u001b[0m 3\n",
      "\u001b[34mPage number:\u001b[0m 3\n",
      "\u001b[34mChunk number:\u001b[0m 2\n",
      "\u001b[34mChunk text:\u001b[0m  to our services, and start offering new services or stop\n",
      "offering old ones. When a service requires or includes downloadable software, that software sometimes\n",
      "updates automatically on your device once a new version or feature is available. Some services let you adjust\n",
      "your automatic update settings.\n",
      "If we make material changes that negatively impact your use of our services or if we stop offering a service,\n",
      "well provide you with reasonable advance notice, except in urgent situations such as preventing abuse,\n",
      "responding to legal requirements, or addressing security and operability issues. Well also provide you with an\n",
      "opportunity to export your content from your Google Account using Google Takeout, subject to applicable\n",
      "law and policies.\n",
      "What we expect from you\n",
      "Follow these terms and service-specific additional terms\n",
      "The permission we give you to use our services continues as long as you comply with:\n",
      "these terms\n",
      "\n",
      "\u001b[31mCitation 7: Matched text:\u001b[0m\n",
      "\u001b[34mScore:\u001b[0m 0.74\n",
      "\u001b[34mFile name:\u001b[0m Google_terms_of_service_en_us.pdf\n",
      "\u001b[34mPage:\u001b[0m 4\n",
      "\u001b[34mPage number:\u001b[0m 4\n",
      "\u001b[34mChunk number:\u001b[0m 1\n",
      "\u001b[34mChunk text:\u001b[0m service-specific additional terms, which could, for example, include things like additional age\n",
      "requirements\n",
      "You also agree that our Privacy Policy applies to your use of our services. Additionally, we provide resources\n",
      "like the Copyright Help Center, Safety Center, and descriptions of our technologies from our policies site to\n",
      "answer common questions and to set expectations about using our services.\n",
      "Although we give you permission to use our services, we retain any intellectual property rights we have in the\n",
      "services.\n",
      "Respect others\n",
      "We want to maintain a respectful environment for everyone, which means you must follow these basic rules\n",
      "of conduct:\n",
      "comply with applicable laws, including export control, sanctions, and human trafficking laws\n",
      "respect the rights of others, including privacy and intellectual property rights\n",
      "dont abuse or harm others or yourself (or threaten or encourage such abuse or harm)  for example, by\n",
      "misleading, defrauding, illegally impersonating, defaming, bullying,\n",
      "\u001b[31mCitation 8: Matched text:\u001b[0m\n",
      "\u001b[34mScore:\u001b[0m 0.74\n",
      "\u001b[34mFile name:\u001b[0m Google_terms_of_service_en_us.pdf\n",
      "\u001b[34mPage:\u001b[0m 5\n",
      "\u001b[34mPage number:\u001b[0m 5\n",
      "\u001b[34mChunk number:\u001b[0m 1\n",
      "\u001b[34mChunk text:\u001b[0m to provide. If you choose to upload or share content, please make sure you have the necessary rights to do so\n",
      "and that the content is lawful.\n",
      "License\n",
      "Your content remains yours, which means that you retain any intellectual property rights that you\n",
      "have in your content. For example, you have intellectual property rights in the creative content you\n",
      "make, such as reviews you write. Or you may have the right to share someone elses creative content\n",
      "if theyve given you their permission.\n",
      "We need your permission if your intellectual property rights restrict our use of your content. You\n",
      "provide Google with that permission through this license.\n",
      "Whats covered\n",
      "This license covers your content if that content is protected by intellectual property rights.\n",
      "Whats not covered\n",
      "This license doesnt affect your privacy rights  its only about your intellectual property rights\n",
      "This license doesnt cover these types of content:\n",
      "publicly-available factual information that you provide, such as corrections to the\n",
      "\u001b[31mCitation 9: Matched text:\u001b[0m\n",
      "\u001b[34mScore:\u001b[0m 0.74\n",
      "\u001b[34mFile name:\u001b[0m Google_terms_of_service_en_us.pdf\n",
      "\u001b[34mPage:\u001b[0m 7\n",
      "\u001b[34mPage number:\u001b[0m 7\n",
      "\u001b[34mChunk number:\u001b[0m 1\n",
      "\u001b[34mChunk text:\u001b[0m using content youve shared publicly to promote the services. For example, to promote a\n",
      "Google app, we might quote a review you wrote. Or to promote Google Play, we might show a\n",
      "screenshot of the app you offer in the Play Store.\n",
      "developing new technologies and services for Google consistent with these terms\n",
      "Duration\n",
      "This license lasts for as long as your content is protected by intellectual property rights.\n",
      "If you remove from our services any content thats covered by this license, then our systems will stop\n",
      "making that content publicly available in a reasonable amount of time. There are two exceptions:\n",
      "If you already shared your content with others before removing it. For example, if you shared a\n",
      "photo with a friend who then made a copy of it, or shared it again, then that photo may\n",
      "continue to appear in your friends Google Account even after you remove it from your Google\n",
      "Account.\n",
      "If you make your content available through other companies services, its possible that search\n",
      "engines, inc\n",
      "\u001b[31mCitation 10: Matched text:\u001b[0m\n",
      "\u001b[34mScore:\u001b[0m 0.73\n",
      "\u001b[34mFile name:\u001b[0m Google_terms_of_service_en_us.pdf\n",
      "\u001b[34mPage:\u001b[0m 8\n",
      "\u001b[34mPage number:\u001b[0m 8\n",
      "\u001b[34mChunk number:\u001b[0m 1\n",
      "\u001b[34mChunk text:\u001b[0m Using Google services on behalf of an organization or business\n",
      "Many organizations, such as businesses, non-profits, and schools, take advantage of our services. To use\n",
      "our services on behalf of an organization:\n",
      "an authorized representative of that organization must agree to these terms\n",
      "your organizations administrator may assign a Google Account to you. That administrator might\n",
      "require you to follow additional rules and may be able to access or disable your Google Account.\n",
      "Service-related communications\n",
      "To provide you with our services, we sometimes send you service announcements and other information. To\n",
      "learn more about how we communicate with you, see Googles Privacy Policy.\n",
      "If you choose to give us feedback, such as suggestions to improve our services, we may act on your feedback\n",
      "without obligation to you.\n",
      "Content in Google services\n",
      "Your content\n",
      "Some of our services give you the opportunity to make your content publicly available  for example, you\n",
      "might post a product or restaurant\n"
     ]
    }
   ],
   "source": [
    "# \"COMPLETE THE MISSING PART AND RUN THIS CELL\"\n",
    "\n",
    "# Explore the first item in your matching_results_chunks_data dictionary by displaying the first item.\n",
    "\n",
    "print_text_to_text_citation(\n",
    "    matching_results_chunks_data,\n",
    "    print_top=False,\n",
    "    chunk_text=True,\n",
    ")"
   ]
  },
  {
   "cell_type": "markdown",
   "id": "9f86a088-41c6-4bd2-8fc7-45f0a7e8a2e4",
   "metadata": {},
   "source": [
    "Proceed to Task 2.4 below (no progress check for Task 2.3 in lab instructions).\n",
    "\n",
    "### Task 2.4. Create context text\n",
    "\n",
    "#### Create a list to store the combined chunks of text"
   ]
  },
  {
   "cell_type": "code",
   "execution_count": 72,
   "id": "e1595d30",
   "metadata": {
    "tags": []
   },
   "outputs": [],
   "source": [
    "# \"COMPLETE THE MISSING PART AND RUN THIS CELL\"\n",
    "\n",
    "\n",
    "# Create an empty list named \"context_text\". This list will be used to store the combined chunks of text.\n",
    "context_text =[]\n"
   ]
  },
  {
   "cell_type": "markdown",
   "id": "95503358",
   "metadata": {},
   "source": [
    "#### Iterate through each item in the text chunks dictionary"
   ]
  },
  {
   "cell_type": "code",
   "execution_count": 73,
   "id": "9aeddeea",
   "metadata": {
    "tags": []
   },
   "outputs": [],
   "source": [
    "# \"COMPLETE THE MISSING PART AND RUN THIS CELL\"\n",
    "\n",
    "# Create a for loop to iterate through each item in the matching_results_chunks_data dictionary in order to combine all the selected relevant text chunks\n",
    "\n",
    "for key, value in matching_results_chunks_data.items():\n",
    "    context_text.append(value[\"chunk_text\"]) \n"
   ]
  },
  {
   "cell_type": "markdown",
   "id": "03b14e4b",
   "metadata": {},
   "source": [
    "#### Join all the text chunks and store in a list"
   ]
  },
  {
   "cell_type": "code",
   "execution_count": 74,
   "id": "dc954cd7",
   "metadata": {
    "tags": []
   },
   "outputs": [],
   "source": [
    "# \"COMPLETE THE MISSING PART AND RUN THIS CELL\"\n",
    "\n",
    "# Take all of the individual text chunks stored in the context_text list and join them together into a single string named final_context_text. Use \"\\n\" part inserts a newline character between each chunk, effectively creating separate lines or paragraphs.\n",
    "\n",
    "final_context_text = \"\\n\".join(context_text)"
   ]
  },
  {
   "cell_type": "markdown",
   "id": "89cba9b5",
   "metadata": {},
   "source": [
    "Proceed to Task 2.5 below (no progress check for Task 2.4 in lab instructions).\n",
    "\n",
    "### Task 2.5. Pass context to Gemini\n",
    "\n",
    "#### Explore the variables of the task\n"
   ]
  },
  {
   "cell_type": "code",
   "execution_count": 75,
   "id": "bf8241d2-7b7e-48c8-a7bd-1db5bcdb115f",
   "metadata": {
    "tags": []
   },
   "outputs": [],
   "source": [
    "# \"RUN THIS CELL AS IS\"\n",
    "\n",
    "# You're going to work with provided variables in this task. First, review and describe the content/purpose of each variable below. \n",
    "\n",
    "prompt = f\"\"\" Instructions: Compare the images and the text provided as Context: to answer multiple Question:\n",
    "Make sure to think thoroughly before answering the question and put the necessary steps to arrive at the answer in bullet points for easy explainability.\n",
    "If unsure, respond, \"Not enough context to answer\".\n",
    "\n",
    "Context:\n",
    " - Text Context:\n",
    " {final_context_text}\n",
    "\n",
    "\n",
    "{query}\n",
    "\n",
    "Answer:\n",
    "\"\"\""
   ]
  },
  {
   "cell_type": "markdown",
   "id": "46376c65",
   "metadata": {},
   "source": [
    "#### Generate Gemini response with streaming output"
   ]
  },
  {
   "cell_type": "code",
   "execution_count": 76,
   "id": "bebe99d9",
   "metadata": {
    "tags": []
   },
   "outputs": [
    {
     "data": {
      "text/markdown": [
       "Here's a breakdown of the answers to your questions, based on the provided Google Terms of Service excerpt:\n",
       "\n",
       "*   **What are the key expectations that users can have from Google regarding the provision and development of its services?**\n",
       "\n",
       "    *   Google provides a broad range of useful services.\n",
       "    *   Google will provide reasonable advance notice of material changes that negatively impact the use of services or if they stop offering a service, except in urgent situations.\n",
       "    *   Google will provide an opportunity to export content from a Google Account using Google Takeout, subject to applicable law and policies.\n",
       "    *   Google may update its services, including adding or removing features and technologies.\n",
       "    *   Google may send service announcements and other information.\n",
       "\n",
       "*   **What specific rules and guidelines are established for users when using Google services?**\n",
       "\n",
       "    *   Users must follow the Terms of Service and any service-specific additional terms, including age requirements.\n",
       "    *   Users must comply with applicable laws, including export control, sanctions, and human trafficking laws.\n",
       "    *   Users must respect the rights of others, including privacy and intellectual property rights.\n",
       "    *   Users must not abuse or harm others or themselves (or threaten or encourage such abuse or harm).\n",
       "    *   Users must ensure they have the necessary rights to upload or share content and that the content is lawful.\n",
       "\n",
       "*   **How does Google handle intellectual property rights related to the content found within its services, including content owned by users, Google, and third parties?**\n",
       "\n",
       "    *   Users retain intellectual property rights in their content.\n",
       "    *   Google requires permission (a license) to use user content if intellectual property rights restrict their use. This license lasts as long as the content is protected by intellectual property rights.\n",
       "    *   If a user removes content, Google's systems will stop making it publicly available in a reasonable time, with exceptions for content already shared or available through other services.\n",
       "    *   Google may use publicly shared content to promote its services.\n",
       "\n",
       "*   **What legal rights and remedies are available to users in case of problems or disagreements with Google?**\n",
       "\n",
       "    *   Users have certain legal rights that cannot be limited by the Terms of Service.\n",
       "    *   Google is liable only for its breaches of the terms or applicable service-specific additional terms.\n",
       "    *   Google isn't liable for loss of profits, revenues, business opportunities, goodwill, or anticipated savings; indirect or consequential losses; or punitive damages.\n",
       "    *   Google's total liability is limited to the greater of $200 or the fees paid for the relevant services in the 12 months before the dispute.\n",
       "    *   Business users and organizations must indemnify Google for third-party legal proceedings arising from their unlawful use of the services or violation of the terms.\n",
       "\n",
       "*   **How do the service-specific additional terms interact with these general Terms of Service, and which terms take precedence in case of any conflicts?**\n",
       "\n",
       "    *   Service-specific additional terms exist and could include things like additional age requirements.\n",
       "    *   If the general Terms of Service conflict with the service-specific additional terms, the additional terms will govern for that service.\n"
      ],
      "text/plain": [
       "<IPython.core.display.Markdown object>"
      ]
     },
     "execution_count": 76,
     "metadata": {},
     "output_type": "execute_result"
    }
   ],
   "source": [
    "# \"COMPLETE THE MISSING PART AND RUN THIS CELL\"\n",
    "\n",
    "# Call \"get_gemini_response\" function from utils module in order to generate Gemini response with streaming output. This function uses a multimodal Gemini model, a text prompt, and configuration parameters and instructs the Gemini model to generate a response using the provided prompt. As Gemini model enables streaming, you will receive chunks of the response as they were produced. \n",
    "# Format the streamed output using Markdown syntax for easy readability and conversion to HTML.\n",
    "\n",
    "Markdown(\n",
    "    get_gemini_response(\n",
    "        multimodal_model,\n",
    "        model_input=[prompt],\n",
    "        stream=True,\n",
    "        generation_config=GenerationConfig(temperature=0.2, max_output_tokens=2048),\n",
    "    )\n",
    ")"
   ]
  },
  {
   "cell_type": "markdown",
   "id": "22f691d3-2468-4efd-9040-6b2736ab85df",
   "metadata": {},
   "source": [
    "### To verify your work for Task 2.5, click __Check my progress__ in the lab instructions."
   ]
  }
 ],
 "metadata": {
  "environment": {
   "kernel": "conda-base-py",
   "name": "workbench-notebooks.m130",
   "type": "gcloud",
   "uri": "us-docker.pkg.dev/deeplearning-platform-release/gcr.io/workbench-notebooks:m130"
  },
  "kernelspec": {
   "display_name": "Python 3 (ipykernel)",
   "language": "python",
   "name": "python3"
  },
  "language_info": {
   "codemirror_mode": {
    "name": "ipython",
    "version": 3
   },
   "file_extension": ".py",
   "mimetype": "text/x-python",
   "name": "python",
   "nbconvert_exporter": "python",
   "pygments_lexer": "ipython3",
   "version": "3.9.12"
  }
 },
 "nbformat": 4,
 "nbformat_minor": 5
}
